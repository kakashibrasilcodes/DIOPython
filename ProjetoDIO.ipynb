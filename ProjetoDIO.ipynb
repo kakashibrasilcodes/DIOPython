{
  "nbformat": 4,
  "nbformat_minor": 0,
  "metadata": {
    "colab": {
      "name": "ProjetoDIO.ipynb",
      "provenance": [],
      "collapsed_sections": []
    },
    "kernelspec": {
      "name": "python3",
      "display_name": "Python 3"
    },
    "language_info": {
      "name": "python"
    }
  },
  "cells": [
    {
      "cell_type": "code",
      "metadata": {
        "id": "tsyu_a7CwUJs"
      },
      "source": [
        "# Importação das bibliotecas\n",
        "\n",
        "import pandas as pd\n",
        "import matplotlib.pyplot as plt\n",
        "\n",
        "\n",
        "plt.style.use(\"ggplot\")"
      ],
      "execution_count": 93,
      "outputs": []
    },
    {
      "cell_type": "code",
      "metadata": {
        "colab": {
          "resources": {
            "http://localhost:8080/nbextensions/google.colab/files.js": {
              "data": "Ly8gQ29weXJpZ2h0IDIwMTcgR29vZ2xlIExMQwovLwovLyBMaWNlbnNlZCB1bmRlciB0aGUgQXBhY2hlIExpY2Vuc2UsIFZlcnNpb24gMi4wICh0aGUgIkxpY2Vuc2UiKTsKLy8geW91IG1heSBub3QgdXNlIHRoaXMgZmlsZSBleGNlcHQgaW4gY29tcGxpYW5jZSB3aXRoIHRoZSBMaWNlbnNlLgovLyBZb3UgbWF5IG9idGFpbiBhIGNvcHkgb2YgdGhlIExpY2Vuc2UgYXQKLy8KLy8gICAgICBodHRwOi8vd3d3LmFwYWNoZS5vcmcvbGljZW5zZXMvTElDRU5TRS0yLjAKLy8KLy8gVW5sZXNzIHJlcXVpcmVkIGJ5IGFwcGxpY2FibGUgbGF3IG9yIGFncmVlZCB0byBpbiB3cml0aW5nLCBzb2Z0d2FyZQovLyBkaXN0cmlidXRlZCB1bmRlciB0aGUgTGljZW5zZSBpcyBkaXN0cmlidXRlZCBvbiBhbiAiQVMgSVMiIEJBU0lTLAovLyBXSVRIT1VUIFdBUlJBTlRJRVMgT1IgQ09ORElUSU9OUyBPRiBBTlkgS0lORCwgZWl0aGVyIGV4cHJlc3Mgb3IgaW1wbGllZC4KLy8gU2VlIHRoZSBMaWNlbnNlIGZvciB0aGUgc3BlY2lmaWMgbGFuZ3VhZ2UgZ292ZXJuaW5nIHBlcm1pc3Npb25zIGFuZAovLyBsaW1pdGF0aW9ucyB1bmRlciB0aGUgTGljZW5zZS4KCi8qKgogKiBAZmlsZW92ZXJ2aWV3IEhlbHBlcnMgZm9yIGdvb2dsZS5jb2xhYiBQeXRob24gbW9kdWxlLgogKi8KKGZ1bmN0aW9uKHNjb3BlKSB7CmZ1bmN0aW9uIHNwYW4odGV4dCwgc3R5bGVBdHRyaWJ1dGVzID0ge30pIHsKICBjb25zdCBlbGVtZW50ID0gZG9jdW1lbnQuY3JlYXRlRWxlbWVudCgnc3BhbicpOwogIGVsZW1lbnQudGV4dENvbnRlbnQgPSB0ZXh0OwogIGZvciAoY29uc3Qga2V5IG9mIE9iamVjdC5rZXlzKHN0eWxlQXR0cmlidXRlcykpIHsKICAgIGVsZW1lbnQuc3R5bGVba2V5XSA9IHN0eWxlQXR0cmlidXRlc1trZXldOwogIH0KICByZXR1cm4gZWxlbWVudDsKfQoKLy8gTWF4IG51bWJlciBvZiBieXRlcyB3aGljaCB3aWxsIGJlIHVwbG9hZGVkIGF0IGEgdGltZS4KY29uc3QgTUFYX1BBWUxPQURfU0laRSA9IDEwMCAqIDEwMjQ7CgpmdW5jdGlvbiBfdXBsb2FkRmlsZXMoaW5wdXRJZCwgb3V0cHV0SWQpIHsKICBjb25zdCBzdGVwcyA9IHVwbG9hZEZpbGVzU3RlcChpbnB1dElkLCBvdXRwdXRJZCk7CiAgY29uc3Qgb3V0cHV0RWxlbWVudCA9IGRvY3VtZW50LmdldEVsZW1lbnRCeUlkKG91dHB1dElkKTsKICAvLyBDYWNoZSBzdGVwcyBvbiB0aGUgb3V0cHV0RWxlbWVudCB0byBtYWtlIGl0IGF2YWlsYWJsZSBmb3IgdGhlIG5leHQgY2FsbAogIC8vIHRvIHVwbG9hZEZpbGVzQ29udGludWUgZnJvbSBQeXRob24uCiAgb3V0cHV0RWxlbWVudC5zdGVwcyA9IHN0ZXBzOwoKICByZXR1cm4gX3VwbG9hZEZpbGVzQ29udGludWUob3V0cHV0SWQpOwp9CgovLyBUaGlzIGlzIHJvdWdobHkgYW4gYXN5bmMgZ2VuZXJhdG9yIChub3Qgc3VwcG9ydGVkIGluIHRoZSBicm93c2VyIHlldCksCi8vIHdoZXJlIHRoZXJlIGFyZSBtdWx0aXBsZSBhc3luY2hyb25vdXMgc3RlcHMgYW5kIHRoZSBQeXRob24gc2lkZSBpcyBnb2luZwovLyB0byBwb2xsIGZvciBjb21wbGV0aW9uIG9mIGVhY2ggc3RlcC4KLy8gVGhpcyB1c2VzIGEgUHJvbWlzZSB0byBibG9jayB0aGUgcHl0aG9uIHNpZGUgb24gY29tcGxldGlvbiBvZiBlYWNoIHN0ZXAsCi8vIHRoZW4gcGFzc2VzIHRoZSByZXN1bHQgb2YgdGhlIHByZXZpb3VzIHN0ZXAgYXMgdGhlIGlucHV0IHRvIHRoZSBuZXh0IHN0ZXAuCmZ1bmN0aW9uIF91cGxvYWRGaWxlc0NvbnRpbnVlKG91dHB1dElkKSB7CiAgY29uc3Qgb3V0cHV0RWxlbWVudCA9IGRvY3VtZW50LmdldEVsZW1lbnRCeUlkKG91dHB1dElkKTsKICBjb25zdCBzdGVwcyA9IG91dHB1dEVsZW1lbnQuc3RlcHM7CgogIGNvbnN0IG5leHQgPSBzdGVwcy5uZXh0KG91dHB1dEVsZW1lbnQubGFzdFByb21pc2VWYWx1ZSk7CiAgcmV0dXJuIFByb21pc2UucmVzb2x2ZShuZXh0LnZhbHVlLnByb21pc2UpLnRoZW4oKHZhbHVlKSA9PiB7CiAgICAvLyBDYWNoZSB0aGUgbGFzdCBwcm9taXNlIHZhbHVlIHRvIG1ha2UgaXQgYXZhaWxhYmxlIHRvIHRoZSBuZXh0CiAgICAvLyBzdGVwIG9mIHRoZSBnZW5lcmF0b3IuCiAgICBvdXRwdXRFbGVtZW50Lmxhc3RQcm9taXNlVmFsdWUgPSB2YWx1ZTsKICAgIHJldHVybiBuZXh0LnZhbHVlLnJlc3BvbnNlOwogIH0pOwp9CgovKioKICogR2VuZXJhdG9yIGZ1bmN0aW9uIHdoaWNoIGlzIGNhbGxlZCBiZXR3ZWVuIGVhY2ggYXN5bmMgc3RlcCBvZiB0aGUgdXBsb2FkCiAqIHByb2Nlc3MuCiAqIEBwYXJhbSB7c3RyaW5nfSBpbnB1dElkIEVsZW1lbnQgSUQgb2YgdGhlIGlucHV0IGZpbGUgcGlja2VyIGVsZW1lbnQuCiAqIEBwYXJhbSB7c3RyaW5nfSBvdXRwdXRJZCBFbGVtZW50IElEIG9mIHRoZSBvdXRwdXQgZGlzcGxheS4KICogQHJldHVybiB7IUl0ZXJhYmxlPCFPYmplY3Q+fSBJdGVyYWJsZSBvZiBuZXh0IHN0ZXBzLgogKi8KZnVuY3Rpb24qIHVwbG9hZEZpbGVzU3RlcChpbnB1dElkLCBvdXRwdXRJZCkgewogIGNvbnN0IGlucHV0RWxlbWVudCA9IGRvY3VtZW50LmdldEVsZW1lbnRCeUlkKGlucHV0SWQpOwogIGlucHV0RWxlbWVudC5kaXNhYmxlZCA9IGZhbHNlOwoKICBjb25zdCBvdXRwdXRFbGVtZW50ID0gZG9jdW1lbnQuZ2V0RWxlbWVudEJ5SWQob3V0cHV0SWQpOwogIG91dHB1dEVsZW1lbnQuaW5uZXJIVE1MID0gJyc7CgogIGNvbnN0IHBpY2tlZFByb21pc2UgPSBuZXcgUHJvbWlzZSgocmVzb2x2ZSkgPT4gewogICAgaW5wdXRFbGVtZW50LmFkZEV2ZW50TGlzdGVuZXIoJ2NoYW5nZScsIChlKSA9PiB7CiAgICAgIHJlc29sdmUoZS50YXJnZXQuZmlsZXMpOwogICAgfSk7CiAgfSk7CgogIGNvbnN0IGNhbmNlbCA9IGRvY3VtZW50LmNyZWF0ZUVsZW1lbnQoJ2J1dHRvbicpOwogIGlucHV0RWxlbWVudC5wYXJlbnRFbGVtZW50LmFwcGVuZENoaWxkKGNhbmNlbCk7CiAgY2FuY2VsLnRleHRDb250ZW50ID0gJ0NhbmNlbCB1cGxvYWQnOwogIGNvbnN0IGNhbmNlbFByb21pc2UgPSBuZXcgUHJvbWlzZSgocmVzb2x2ZSkgPT4gewogICAgY2FuY2VsLm9uY2xpY2sgPSAoKSA9PiB7CiAgICAgIHJlc29sdmUobnVsbCk7CiAgICB9OwogIH0pOwoKICAvLyBXYWl0IGZvciB0aGUgdXNlciB0byBwaWNrIHRoZSBmaWxlcy4KICBjb25zdCBmaWxlcyA9IHlpZWxkIHsKICAgIHByb21pc2U6IFByb21pc2UucmFjZShbcGlja2VkUHJvbWlzZSwgY2FuY2VsUHJvbWlzZV0pLAogICAgcmVzcG9uc2U6IHsKICAgICAgYWN0aW9uOiAnc3RhcnRpbmcnLAogICAgfQogIH07CgogIGNhbmNlbC5yZW1vdmUoKTsKCiAgLy8gRGlzYWJsZSB0aGUgaW5wdXQgZWxlbWVudCBzaW5jZSBmdXJ0aGVyIHBpY2tzIGFyZSBub3QgYWxsb3dlZC4KICBpbnB1dEVsZW1lbnQuZGlzYWJsZWQgPSB0cnVlOwoKICBpZiAoIWZpbGVzKSB7CiAgICByZXR1cm4gewogICAgICByZXNwb25zZTogewogICAgICAgIGFjdGlvbjogJ2NvbXBsZXRlJywKICAgICAgfQogICAgfTsKICB9CgogIGZvciAoY29uc3QgZmlsZSBvZiBmaWxlcykgewogICAgY29uc3QgbGkgPSBkb2N1bWVudC5jcmVhdGVFbGVtZW50KCdsaScpOwogICAgbGkuYXBwZW5kKHNwYW4oZmlsZS5uYW1lLCB7Zm9udFdlaWdodDogJ2JvbGQnfSkpOwogICAgbGkuYXBwZW5kKHNwYW4oCiAgICAgICAgYCgke2ZpbGUudHlwZSB8fCAnbi9hJ30pIC0gJHtmaWxlLnNpemV9IGJ5dGVzLCBgICsKICAgICAgICBgbGFzdCBtb2RpZmllZDogJHsKICAgICAgICAgICAgZmlsZS5sYXN0TW9kaWZpZWREYXRlID8gZmlsZS5sYXN0TW9kaWZpZWREYXRlLnRvTG9jYWxlRGF0ZVN0cmluZygpIDoKICAgICAgICAgICAgICAgICAgICAgICAgICAgICAgICAgICAgJ24vYSd9IC0gYCkpOwogICAgY29uc3QgcGVyY2VudCA9IHNwYW4oJzAlIGRvbmUnKTsKICAgIGxpLmFwcGVuZENoaWxkKHBlcmNlbnQpOwoKICAgIG91dHB1dEVsZW1lbnQuYXBwZW5kQ2hpbGQobGkpOwoKICAgIGNvbnN0IGZpbGVEYXRhUHJvbWlzZSA9IG5ldyBQcm9taXNlKChyZXNvbHZlKSA9PiB7CiAgICAgIGNvbnN0IHJlYWRlciA9IG5ldyBGaWxlUmVhZGVyKCk7CiAgICAgIHJlYWRlci5vbmxvYWQgPSAoZSkgPT4gewogICAgICAgIHJlc29sdmUoZS50YXJnZXQucmVzdWx0KTsKICAgICAgfTsKICAgICAgcmVhZGVyLnJlYWRBc0FycmF5QnVmZmVyKGZpbGUpOwogICAgfSk7CiAgICAvLyBXYWl0IGZvciB0aGUgZGF0YSB0byBiZSByZWFkeS4KICAgIGxldCBmaWxlRGF0YSA9IHlpZWxkIHsKICAgICAgcHJvbWlzZTogZmlsZURhdGFQcm9taXNlLAogICAgICByZXNwb25zZTogewogICAgICAgIGFjdGlvbjogJ2NvbnRpbnVlJywKICAgICAgfQogICAgfTsKCiAgICAvLyBVc2UgYSBjaHVua2VkIHNlbmRpbmcgdG8gYXZvaWQgbWVzc2FnZSBzaXplIGxpbWl0cy4gU2VlIGIvNjIxMTU2NjAuCiAgICBsZXQgcG9zaXRpb24gPSAwOwogICAgZG8gewogICAgICBjb25zdCBsZW5ndGggPSBNYXRoLm1pbihmaWxlRGF0YS5ieXRlTGVuZ3RoIC0gcG9zaXRpb24sIE1BWF9QQVlMT0FEX1NJWkUpOwogICAgICBjb25zdCBjaHVuayA9IG5ldyBVaW50OEFycmF5KGZpbGVEYXRhLCBwb3NpdGlvbiwgbGVuZ3RoKTsKICAgICAgcG9zaXRpb24gKz0gbGVuZ3RoOwoKICAgICAgY29uc3QgYmFzZTY0ID0gYnRvYShTdHJpbmcuZnJvbUNoYXJDb2RlLmFwcGx5KG51bGwsIGNodW5rKSk7CiAgICAgIHlpZWxkIHsKICAgICAgICByZXNwb25zZTogewogICAgICAgICAgYWN0aW9uOiAnYXBwZW5kJywKICAgICAgICAgIGZpbGU6IGZpbGUubmFtZSwKICAgICAgICAgIGRhdGE6IGJhc2U2NCwKICAgICAgICB9LAogICAgICB9OwoKICAgICAgbGV0IHBlcmNlbnREb25lID0gZmlsZURhdGEuYnl0ZUxlbmd0aCA9PT0gMCA/CiAgICAgICAgICAxMDAgOgogICAgICAgICAgTWF0aC5yb3VuZCgocG9zaXRpb24gLyBmaWxlRGF0YS5ieXRlTGVuZ3RoKSAqIDEwMCk7CiAgICAgIHBlcmNlbnQudGV4dENvbnRlbnQgPSBgJHtwZXJjZW50RG9uZX0lIGRvbmVgOwoKICAgIH0gd2hpbGUgKHBvc2l0aW9uIDwgZmlsZURhdGEuYnl0ZUxlbmd0aCk7CiAgfQoKICAvLyBBbGwgZG9uZS4KICB5aWVsZCB7CiAgICByZXNwb25zZTogewogICAgICBhY3Rpb246ICdjb21wbGV0ZScsCiAgICB9CiAgfTsKfQoKc2NvcGUuZ29vZ2xlID0gc2NvcGUuZ29vZ2xlIHx8IHt9OwpzY29wZS5nb29nbGUuY29sYWIgPSBzY29wZS5nb29nbGUuY29sYWIgfHwge307CnNjb3BlLmdvb2dsZS5jb2xhYi5fZmlsZXMgPSB7CiAgX3VwbG9hZEZpbGVzLAogIF91cGxvYWRGaWxlc0NvbnRpbnVlLAp9Owp9KShzZWxmKTsK",
              "ok": true,
              "headers": [
                [
                  "content-type",
                  "application/javascript"
                ]
              ],
              "status": 200,
              "status_text": ""
            }
          },
          "base_uri": "https://localhost:8080/",
          "height": 73
        },
        "id": "rkgIaMD-xf8C",
        "outputId": "815fb5ee-a504-40f0-8069-93a91af7ca00"
      },
      "source": [
        "# Fazendo upload do arquivo a ser analisado\n",
        "\n",
        "from google.colab import files\n",
        "arq = files.upload()"
      ],
      "execution_count": 94,
      "outputs": [
        {
          "output_type": "display_data",
          "data": {
            "text/html": [
              "\n",
              "     <input type=\"file\" id=\"files-4256ec94-aa76-4e38-87b7-e3f9b7033123\" name=\"files[]\" multiple disabled\n",
              "        style=\"border:none\" />\n",
              "     <output id=\"result-4256ec94-aa76-4e38-87b7-e3f9b7033123\">\n",
              "      Upload widget is only available when the cell has been executed in the\n",
              "      current browser session. Please rerun this cell to enable.\n",
              "      </output>\n",
              "      <script src=\"/nbextensions/google.colab/files.js\"></script> "
            ],
            "text/plain": [
              "<IPython.core.display.HTML object>"
            ]
          },
          "metadata": {}
        },
        {
          "output_type": "stream",
          "text": [
            "Saving Police Fatalities.csv to Police Fatalities (1).csv\n"
          ],
          "name": "stdout"
        }
      ]
    },
    {
      "cell_type": "code",
      "metadata": {
        "id": "rdKHbYOuxqf2"
      },
      "source": [
        "# Criando um dataframe pandas\n",
        "df = pd.read_csv('Police Fatalities.csv',encoding='unicode_escape',parse_dates=['Date'])"
      ],
      "execution_count": 95,
      "outputs": []
    },
    {
      "cell_type": "code",
      "metadata": {
        "colab": {
          "base_uri": "https://localhost:8080/",
          "height": 203
        },
        "id": "lf5x5muLA0VW",
        "outputId": "1d5be2ad-3ba6-45ac-bfbc-f0813ab7dc8a"
      },
      "source": [
        "# Lendo as 5 primeiras linhas do data frame\n",
        "df.head(5)"
      ],
      "execution_count": 96,
      "outputs": [
        {
          "output_type": "execute_result",
          "data": {
            "text/html": [
              "<div>\n",
              "<style scoped>\n",
              "    .dataframe tbody tr th:only-of-type {\n",
              "        vertical-align: middle;\n",
              "    }\n",
              "\n",
              "    .dataframe tbody tr th {\n",
              "        vertical-align: top;\n",
              "    }\n",
              "\n",
              "    .dataframe thead th {\n",
              "        text-align: right;\n",
              "    }\n",
              "</style>\n",
              "<table border=\"1\" class=\"dataframe\">\n",
              "  <thead>\n",
              "    <tr style=\"text-align: right;\">\n",
              "      <th></th>\n",
              "      <th>UID</th>\n",
              "      <th>Name</th>\n",
              "      <th>Age</th>\n",
              "      <th>Gender</th>\n",
              "      <th>Race</th>\n",
              "      <th>Date</th>\n",
              "      <th>City</th>\n",
              "      <th>State</th>\n",
              "      <th>Manner_of_death</th>\n",
              "      <th>Armed</th>\n",
              "      <th>Mental_illness</th>\n",
              "      <th>Flee</th>\n",
              "    </tr>\n",
              "  </thead>\n",
              "  <tbody>\n",
              "    <tr>\n",
              "      <th>0</th>\n",
              "      <td>133</td>\n",
              "      <td>Karen O. Chin</td>\n",
              "      <td>44.0</td>\n",
              "      <td>Female</td>\n",
              "      <td>Asian</td>\n",
              "      <td>2000-05-04</td>\n",
              "      <td>Alameda</td>\n",
              "      <td>CA</td>\n",
              "      <td>Shot</td>\n",
              "      <td>NaN</td>\n",
              "      <td>False</td>\n",
              "      <td>False</td>\n",
              "    </tr>\n",
              "    <tr>\n",
              "      <th>1</th>\n",
              "      <td>169</td>\n",
              "      <td>Chyraphone Komvongsa</td>\n",
              "      <td>26.0</td>\n",
              "      <td>Male</td>\n",
              "      <td>Asian</td>\n",
              "      <td>2000-06-02</td>\n",
              "      <td>Fresno</td>\n",
              "      <td>CA</td>\n",
              "      <td>Shot</td>\n",
              "      <td>NaN</td>\n",
              "      <td>False</td>\n",
              "      <td>False</td>\n",
              "    </tr>\n",
              "    <tr>\n",
              "      <th>2</th>\n",
              "      <td>257</td>\n",
              "      <td>Ming Chinh Ly</td>\n",
              "      <td>36.0</td>\n",
              "      <td>Male</td>\n",
              "      <td>Asian</td>\n",
              "      <td>2000-08-13</td>\n",
              "      <td>Rosemead</td>\n",
              "      <td>CA</td>\n",
              "      <td>Shot</td>\n",
              "      <td>Gun</td>\n",
              "      <td>False</td>\n",
              "      <td>False</td>\n",
              "    </tr>\n",
              "    <tr>\n",
              "      <th>3</th>\n",
              "      <td>483</td>\n",
              "      <td>Kinh Quoc Dao</td>\n",
              "      <td>29.0</td>\n",
              "      <td>Male</td>\n",
              "      <td>Asian</td>\n",
              "      <td>2001-02-09</td>\n",
              "      <td>Valley Glen</td>\n",
              "      <td>CA</td>\n",
              "      <td>Shot</td>\n",
              "      <td>Gun</td>\n",
              "      <td>False</td>\n",
              "      <td>False</td>\n",
              "    </tr>\n",
              "    <tr>\n",
              "      <th>4</th>\n",
              "      <td>655</td>\n",
              "      <td>Vanpaseuth Phaisouphanh</td>\n",
              "      <td>25.0</td>\n",
              "      <td>Male</td>\n",
              "      <td>Asian</td>\n",
              "      <td>2001-06-10</td>\n",
              "      <td>Riverside</td>\n",
              "      <td>CA</td>\n",
              "      <td>Shot</td>\n",
              "      <td>Knife</td>\n",
              "      <td>False</td>\n",
              "      <td>False</td>\n",
              "    </tr>\n",
              "  </tbody>\n",
              "</table>\n",
              "</div>"
            ],
            "text/plain": [
              "   UID                     Name   Age  ...  Armed Mental_illness   Flee\n",
              "0  133            Karen O. Chin  44.0  ...    NaN          False  False\n",
              "1  169     Chyraphone Komvongsa  26.0  ...    NaN          False  False\n",
              "2  257            Ming Chinh Ly  36.0  ...    Gun          False  False\n",
              "3  483            Kinh Quoc Dao  29.0  ...    Gun          False  False\n",
              "4  655  Vanpaseuth Phaisouphanh  25.0  ...  Knife          False  False\n",
              "\n",
              "[5 rows x 12 columns]"
            ]
          },
          "metadata": {},
          "execution_count": 96
        }
      ]
    },
    {
      "cell_type": "code",
      "metadata": {
        "colab": {
          "base_uri": "https://localhost:8080/",
          "height": 203
        },
        "id": "Hn6Bp6QSBocQ",
        "outputId": "c7c08563-f5af-49a8-e119-984a6e973b21"
      },
      "source": [
        "# Lendo as 5 últimas linhas do data frame\n",
        "df.tail(5)"
      ],
      "execution_count": 97,
      "outputs": [
        {
          "output_type": "execute_result",
          "data": {
            "text/html": [
              "<div>\n",
              "<style scoped>\n",
              "    .dataframe tbody tr th:only-of-type {\n",
              "        vertical-align: middle;\n",
              "    }\n",
              "\n",
              "    .dataframe tbody tr th {\n",
              "        vertical-align: top;\n",
              "    }\n",
              "\n",
              "    .dataframe thead th {\n",
              "        text-align: right;\n",
              "    }\n",
              "</style>\n",
              "<table border=\"1\" class=\"dataframe\">\n",
              "  <thead>\n",
              "    <tr style=\"text-align: right;\">\n",
              "      <th></th>\n",
              "      <th>UID</th>\n",
              "      <th>Name</th>\n",
              "      <th>Age</th>\n",
              "      <th>Gender</th>\n",
              "      <th>Race</th>\n",
              "      <th>Date</th>\n",
              "      <th>City</th>\n",
              "      <th>State</th>\n",
              "      <th>Manner_of_death</th>\n",
              "      <th>Armed</th>\n",
              "      <th>Mental_illness</th>\n",
              "      <th>Flee</th>\n",
              "    </tr>\n",
              "  </thead>\n",
              "  <tbody>\n",
              "    <tr>\n",
              "      <th>12486</th>\n",
              "      <td>12388</td>\n",
              "      <td>Name withheld by police</td>\n",
              "      <td>NaN</td>\n",
              "      <td>Male</td>\n",
              "      <td>NaN</td>\n",
              "      <td>2008-12-09</td>\n",
              "      <td>Sacramento</td>\n",
              "      <td>CA</td>\n",
              "      <td>Other</td>\n",
              "      <td>NaN</td>\n",
              "      <td>False</td>\n",
              "      <td>False</td>\n",
              "    </tr>\n",
              "    <tr>\n",
              "      <th>12487</th>\n",
              "      <td>12429</td>\n",
              "      <td>Gene Lovell Ford</td>\n",
              "      <td>48.0</td>\n",
              "      <td>Male</td>\n",
              "      <td>NaN</td>\n",
              "      <td>2008-08-06</td>\n",
              "      <td>Sacramento</td>\n",
              "      <td>CA</td>\n",
              "      <td>Other</td>\n",
              "      <td>NaN</td>\n",
              "      <td>True</td>\n",
              "      <td>False</td>\n",
              "    </tr>\n",
              "    <tr>\n",
              "      <th>12488</th>\n",
              "      <td>12430</td>\n",
              "      <td>Jose Vega</td>\n",
              "      <td>38.0</td>\n",
              "      <td>Male</td>\n",
              "      <td>NaN</td>\n",
              "      <td>2008-08-06</td>\n",
              "      <td>Visalia</td>\n",
              "      <td>CA</td>\n",
              "      <td>Other</td>\n",
              "      <td>NaN</td>\n",
              "      <td>True</td>\n",
              "      <td>False</td>\n",
              "    </tr>\n",
              "    <tr>\n",
              "      <th>12489</th>\n",
              "      <td>12636</td>\n",
              "      <td>Humberto Torres</td>\n",
              "      <td>41.0</td>\n",
              "      <td>Male</td>\n",
              "      <td>NaN</td>\n",
              "      <td>2009-03-21</td>\n",
              "      <td>Delano</td>\n",
              "      <td>CA</td>\n",
              "      <td>Other</td>\n",
              "      <td>Gun</td>\n",
              "      <td>False</td>\n",
              "      <td>False</td>\n",
              "    </tr>\n",
              "    <tr>\n",
              "      <th>12490</th>\n",
              "      <td>12861</td>\n",
              "      <td>Name withheld by police</td>\n",
              "      <td>39.0</td>\n",
              "      <td>Male</td>\n",
              "      <td>NaN</td>\n",
              "      <td>2010-01-15</td>\n",
              "      <td>Los Angeles</td>\n",
              "      <td>CA</td>\n",
              "      <td>Other</td>\n",
              "      <td>NaN</td>\n",
              "      <td>False</td>\n",
              "      <td>False</td>\n",
              "    </tr>\n",
              "  </tbody>\n",
              "</table>\n",
              "</div>"
            ],
            "text/plain": [
              "         UID                     Name   Age  ... Armed Mental_illness   Flee\n",
              "12486  12388  Name withheld by police   NaN  ...   NaN          False  False\n",
              "12487  12429         Gene Lovell Ford  48.0  ...   NaN           True  False\n",
              "12488  12430                Jose Vega  38.0  ...   NaN           True  False\n",
              "12489  12636          Humberto Torres  41.0  ...   Gun          False  False\n",
              "12490  12861  Name withheld by police  39.0  ...   NaN          False  False\n",
              "\n",
              "[5 rows x 12 columns]"
            ]
          },
          "metadata": {},
          "execution_count": 97
        }
      ]
    },
    {
      "cell_type": "code",
      "metadata": {
        "colab": {
          "base_uri": "https://localhost:8080/"
        },
        "id": "bOfFWzukBs4F",
        "outputId": "8cb0d90e-4a92-45d7-e0ab-2ac5585cb9d6"
      },
      "source": [
        "# Vendo a quantidade de linhas e colunas do arquivo\n",
        "df.shape"
      ],
      "execution_count": 98,
      "outputs": [
        {
          "output_type": "execute_result",
          "data": {
            "text/plain": [
              "(12491, 12)"
            ]
          },
          "metadata": {},
          "execution_count": 98
        }
      ]
    },
    {
      "cell_type": "code",
      "metadata": {
        "colab": {
          "base_uri": "https://localhost:8080/"
        },
        "id": "bGyI-cKGBzxX",
        "outputId": "b841eaff-1dbc-48fe-a392-cabbdd05a4a2"
      },
      "source": [
        "# Verificando os tipos de dados\n",
        "df.dtypes"
      ],
      "execution_count": 99,
      "outputs": [
        {
          "output_type": "execute_result",
          "data": {
            "text/plain": [
              "UID                         int64\n",
              "Name                       object\n",
              "Age                       float64\n",
              "Gender                     object\n",
              "Race                       object\n",
              "Date               datetime64[ns]\n",
              "City                       object\n",
              "State                      object\n",
              "Manner_of_death            object\n",
              "Armed                      object\n",
              "Mental_illness               bool\n",
              "Flee                         bool\n",
              "dtype: object"
            ]
          },
          "metadata": {},
          "execution_count": 99
        }
      ]
    },
    {
      "cell_type": "code",
      "metadata": {
        "colab": {
          "base_uri": "https://localhost:8080/"
        },
        "id": "J9CUGctXCvuI",
        "outputId": "f383f50e-ef18-47c0-955f-3130eb159576"
      },
      "source": [
        "# O Número total de linhas da base de dados\n",
        "df['Age'].describe()"
      ],
      "execution_count": 100,
      "outputs": [
        {
          "output_type": "execute_result",
          "data": {
            "text/plain": [
              "count    12258.000000\n",
              "mean        35.269538\n",
              "std         12.979532\n",
              "min          1.000000\n",
              "25%         25.000000\n",
              "50%         33.000000\n",
              "75%         44.000000\n",
              "max        107.000000\n",
              "Name: Age, dtype: float64"
            ]
          },
          "metadata": {},
          "execution_count": 100
        }
      ]
    },
    {
      "cell_type": "code",
      "metadata": {
        "colab": {
          "base_uri": "https://localhost:8080/"
        },
        "id": "JZ7vZ1QYC_Q0",
        "outputId": "204ee263-c821-44ef-b4ac-025dc06f4bc0"
      },
      "source": [
        "# Quantidade de valores nulos por coluna\n",
        "df.isnull().sum()"
      ],
      "execution_count": 101,
      "outputs": [
        {
          "output_type": "execute_result",
          "data": {
            "text/plain": [
              "UID                   0\n",
              "Name                  0\n",
              "Age                 233\n",
              "Gender                8\n",
              "Race               3965\n",
              "Date                  0\n",
              "City                  4\n",
              "State                 0\n",
              "Manner_of_death       0\n",
              "Armed              5677\n",
              "Mental_illness        0\n",
              "Flee                  0\n",
              "dtype: int64"
            ]
          },
          "metadata": {},
          "execution_count": 101
        }
      ]
    },
    {
      "cell_type": "code",
      "metadata": {
        "id": "hb5vDpuDDfwl"
      },
      "source": [
        "# Renomeando o DataFrame\n",
        "df.rename(columns={\"UID\" : \"Identificador\",\n",
        "                   \"Name\" : \"Nome\",\n",
        "                   \"Age\" : \"Idade\",\n",
        "                   \"Gender\" : \"Genero\",\n",
        "                   \"Race\" : \"Raca\",\n",
        "                   \"Date\": \"Data\",\n",
        "                   \"City\" : \"Cidade\",\n",
        "                   \"State\" : \"Estado\",\n",
        "                   \"Manner_of_death\" : \"Forma que morreu\",\n",
        "                   \"Armed\": \"Armado\",\n",
        "                   \"Mental_illness\" : \"Doença Mental?\",\n",
        "                   \"Flee\" : \"Fugiu?\"}, inplace = True)"
      ],
      "execution_count": 102,
      "outputs": []
    },
    {
      "cell_type": "code",
      "metadata": {
        "colab": {
          "base_uri": "https://localhost:8080/",
          "height": 203
        },
        "id": "hm55bKe5E2OF",
        "outputId": "aadd9010-3d6b-4628-944c-bda8e7660d17"
      },
      "source": [
        "# Primeiras 5 linhas\n",
        "df.head(5)"
      ],
      "execution_count": 103,
      "outputs": [
        {
          "output_type": "execute_result",
          "data": {
            "text/html": [
              "<div>\n",
              "<style scoped>\n",
              "    .dataframe tbody tr th:only-of-type {\n",
              "        vertical-align: middle;\n",
              "    }\n",
              "\n",
              "    .dataframe tbody tr th {\n",
              "        vertical-align: top;\n",
              "    }\n",
              "\n",
              "    .dataframe thead th {\n",
              "        text-align: right;\n",
              "    }\n",
              "</style>\n",
              "<table border=\"1\" class=\"dataframe\">\n",
              "  <thead>\n",
              "    <tr style=\"text-align: right;\">\n",
              "      <th></th>\n",
              "      <th>Identificador</th>\n",
              "      <th>Nome</th>\n",
              "      <th>Idade</th>\n",
              "      <th>Genero</th>\n",
              "      <th>Raca</th>\n",
              "      <th>Data</th>\n",
              "      <th>Cidade</th>\n",
              "      <th>Estado</th>\n",
              "      <th>Forma que morreu</th>\n",
              "      <th>Armado</th>\n",
              "      <th>Doença Mental?</th>\n",
              "      <th>Fugiu?</th>\n",
              "    </tr>\n",
              "  </thead>\n",
              "  <tbody>\n",
              "    <tr>\n",
              "      <th>0</th>\n",
              "      <td>133</td>\n",
              "      <td>Karen O. Chin</td>\n",
              "      <td>44.0</td>\n",
              "      <td>Female</td>\n",
              "      <td>Asian</td>\n",
              "      <td>2000-05-04</td>\n",
              "      <td>Alameda</td>\n",
              "      <td>CA</td>\n",
              "      <td>Shot</td>\n",
              "      <td>NaN</td>\n",
              "      <td>False</td>\n",
              "      <td>False</td>\n",
              "    </tr>\n",
              "    <tr>\n",
              "      <th>1</th>\n",
              "      <td>169</td>\n",
              "      <td>Chyraphone Komvongsa</td>\n",
              "      <td>26.0</td>\n",
              "      <td>Male</td>\n",
              "      <td>Asian</td>\n",
              "      <td>2000-06-02</td>\n",
              "      <td>Fresno</td>\n",
              "      <td>CA</td>\n",
              "      <td>Shot</td>\n",
              "      <td>NaN</td>\n",
              "      <td>False</td>\n",
              "      <td>False</td>\n",
              "    </tr>\n",
              "    <tr>\n",
              "      <th>2</th>\n",
              "      <td>257</td>\n",
              "      <td>Ming Chinh Ly</td>\n",
              "      <td>36.0</td>\n",
              "      <td>Male</td>\n",
              "      <td>Asian</td>\n",
              "      <td>2000-08-13</td>\n",
              "      <td>Rosemead</td>\n",
              "      <td>CA</td>\n",
              "      <td>Shot</td>\n",
              "      <td>Gun</td>\n",
              "      <td>False</td>\n",
              "      <td>False</td>\n",
              "    </tr>\n",
              "    <tr>\n",
              "      <th>3</th>\n",
              "      <td>483</td>\n",
              "      <td>Kinh Quoc Dao</td>\n",
              "      <td>29.0</td>\n",
              "      <td>Male</td>\n",
              "      <td>Asian</td>\n",
              "      <td>2001-02-09</td>\n",
              "      <td>Valley Glen</td>\n",
              "      <td>CA</td>\n",
              "      <td>Shot</td>\n",
              "      <td>Gun</td>\n",
              "      <td>False</td>\n",
              "      <td>False</td>\n",
              "    </tr>\n",
              "    <tr>\n",
              "      <th>4</th>\n",
              "      <td>655</td>\n",
              "      <td>Vanpaseuth Phaisouphanh</td>\n",
              "      <td>25.0</td>\n",
              "      <td>Male</td>\n",
              "      <td>Asian</td>\n",
              "      <td>2001-06-10</td>\n",
              "      <td>Riverside</td>\n",
              "      <td>CA</td>\n",
              "      <td>Shot</td>\n",
              "      <td>Knife</td>\n",
              "      <td>False</td>\n",
              "      <td>False</td>\n",
              "    </tr>\n",
              "  </tbody>\n",
              "</table>\n",
              "</div>"
            ],
            "text/plain": [
              "   Identificador                     Nome  Idade  ... Armado Doença Mental? Fugiu?\n",
              "0            133            Karen O. Chin   44.0  ...    NaN          False  False\n",
              "1            169     Chyraphone Komvongsa   26.0  ...    NaN          False  False\n",
              "2            257            Ming Chinh Ly   36.0  ...    Gun          False  False\n",
              "3            483            Kinh Quoc Dao   29.0  ...    Gun          False  False\n",
              "4            655  Vanpaseuth Phaisouphanh   25.0  ...  Knife          False  False\n",
              "\n",
              "[5 rows x 12 columns]"
            ]
          },
          "metadata": {},
          "execution_count": 103
        }
      ]
    },
    {
      "cell_type": "code",
      "metadata": {
        "colab": {
          "base_uri": "https://localhost:8080/"
        },
        "id": "JO2iio4NFnjt",
        "outputId": "52e683e7-9738-48d6-a10e-8528f370d768"
      },
      "source": [
        "# Idade média das pessoas mortas\n",
        "round(df['Idade'].mean())"
      ],
      "execution_count": 104,
      "outputs": [
        {
          "output_type": "execute_result",
          "data": {
            "text/plain": [
              "35"
            ]
          },
          "metadata": {},
          "execution_count": 104
        }
      ]
    },
    {
      "cell_type": "code",
      "metadata": {
        "id": "bXwVujd6F-6c"
      },
      "source": [
        "# Adicionando colunas de Ano, Mês e Dia das ocorrências\n",
        "df['Ano'] = df['Data'].dt.year\n",
        "df['Mes'] = df['Data'].dt.month\n",
        "df['Dia'] = df['Data'].dt.day\n"
      ],
      "execution_count": 105,
      "outputs": []
    },
    {
      "cell_type": "code",
      "metadata": {
        "colab": {
          "base_uri": "https://localhost:8080/"
        },
        "id": "3AVoqtrFMToS",
        "outputId": "2c3d086a-e61a-431e-feee-29b684f5c56f"
      },
      "source": [
        "# A maior idade da base de dados\n",
        "df['Idade'].max()"
      ],
      "execution_count": 106,
      "outputs": [
        {
          "output_type": "execute_result",
          "data": {
            "text/plain": [
              "107.0"
            ]
          },
          "metadata": {},
          "execution_count": 106
        }
      ]
    },
    {
      "cell_type": "code",
      "metadata": {
        "colab": {
          "base_uri": "https://localhost:8080/"
        },
        "id": "DrqlWpq1MZbb",
        "outputId": "c9c6eccc-5f96-4d12-e775-3a686fcf61e4"
      },
      "source": [
        "# A menor idade da base de dados\n",
        "df['Idade'].min()"
      ],
      "execution_count": 107,
      "outputs": [
        {
          "output_type": "execute_result",
          "data": {
            "text/plain": [
              "1.0"
            ]
          },
          "metadata": {},
          "execution_count": 107
        }
      ]
    },
    {
      "cell_type": "code",
      "metadata": {
        "colab": {
          "base_uri": "https://localhost:8080/",
          "height": 300
        },
        "id": "B4gXyCr8HIPE",
        "outputId": "b212851f-f333-4f0f-ec13-3ea7d2c53919"
      },
      "source": [
        "# Idade média dos assasinados por ano\n",
        "df.groupby('Ano')['Idade'].mean().plot(title=\"Idade média dos assasinados por ano\")\n",
        "plt.ylabel(\"Idade Média\");"
      ],
      "execution_count": 108,
      "outputs": [
        {
          "output_type": "display_data",
          "data": {
            "image/png": "[encoded data removed]",
            "text/plain": [
              "<Figure size 432x288 with 1 Axes>"
            ]
          },
          "metadata": {}
        }
      ]
    },
    {
      "cell_type": "code",
      "metadata": {
        "colab": {
          "base_uri": "https://localhost:8080/"
        },
        "id": "C3fw0ilSHXND",
        "outputId": "001ec495-1595-44da-b584-c17e878cc78b"
      },
      "source": [
        "# Contagem por forma de morte\n",
        "forma_morte = df.groupby('Forma que morreu')['Identificador'].count().sort_values(ascending=False)\n",
        "forma_morte"
      ],
      "execution_count": 109,
      "outputs": [
        {
          "output_type": "execute_result",
          "data": {
            "text/plain": [
              "Forma que morreu\n",
              "Shot                11800\n",
              "Tasered               542\n",
              "Shot and Tasered      120\n",
              "Other                  29\n",
              "Name: Identificador, dtype: int64"
            ]
          },
          "metadata": {},
          "execution_count": 109
        }
      ]
    },
    {
      "cell_type": "code",
      "metadata": {
        "colab": {
          "base_uri": "https://localhost:8080/"
        },
        "id": "Ymm5DK8tIZKb",
        "outputId": "43a39f4d-e20b-4091-cb3a-f21cfbaa46b3"
      },
      "source": [
        "# Renomeando as formas de morte\n",
        "forma_morte.rename({'Shot':'Tiro',\n",
        "                         'Tasered' : 'Taser',\n",
        "                         'Shot and Tasered' : 'Tiro e Taser',\n",
        "                         'Other' : 'Outro'},inplace=True)\n",
        "forma_morte"
      ],
      "execution_count": 110,
      "outputs": [
        {
          "output_type": "execute_result",
          "data": {
            "text/plain": [
              "Forma que morreu\n",
              "Tiro            11800\n",
              "Taser             542\n",
              "Tiro e Taser      120\n",
              "Outro              29\n",
              "Name: Identificador, dtype: int64"
            ]
          },
          "metadata": {},
          "execution_count": 110
        }
      ]
    },
    {
      "cell_type": "code",
      "metadata": {
        "colab": {
          "base_uri": "https://localhost:8080/",
          "height": 299
        },
        "id": "592PQ4bgKJ9c",
        "outputId": "b925eacd-72bd-48f8-c1a0-6228e1b69907"
      },
      "source": [
        "# Plotando uma visualização das maneiras de morte\n",
        "forma_morte.plot.bar(title=\"Formas de Morte\",stacked=True);\n",
        "plt.ylabel(\"Qtd. de mortos\")\n",
        "plt.xlabel(\"Maneira da morte\")\n",
        "plt.xticks(rotation=\"horizontal\");"
      ],
      "execution_count": 111,
      "outputs": [
        {
          "output_type": "display_data",
          "data": {
            "image/png": "[encoded data removed]",
            "text/plain": [
              "<Figure size 432x288 with 1 Axes>"
            ]
          },
          "metadata": {}
        }
      ]
    },
    {
      "cell_type": "code",
      "metadata": {
        "colab": {
          "base_uri": "https://localhost:8080/",
          "height": 248
        },
        "id": "CIkW4gpML6DU",
        "outputId": "97008fea-fc78-4f95-a924-d8396b2c1fbf"
      },
      "source": [
        "# Mortos por Genero\n",
        "df.groupby('Genero')['Identificador'].count().plot.pie()\n",
        "plt.ylabel(\"\");"
      ],
      "execution_count": 112,
      "outputs": [
        {
          "output_type": "display_data",
          "data": {
            "image/png": "[encoded data removed]",
            "text/plain": [
              "<Figure size 432x288 with 1 Axes>"
            ]
          },
          "metadata": {}
        }
      ]
    },
    {
      "cell_type": "code",
      "metadata": {
        "colab": {
          "base_uri": "https://localhost:8080/",
          "height": 234
        },
        "id": "30QOS9iGNp9d",
        "outputId": "34d51a29-d560-4811-f74b-9441d93348ee"
      },
      "source": [
        "# Verificando os mortos por raça\n",
        "mortos_por_raca = df.groupby('Raca')['Identificador'].count().sort_values(ascending=True).reset_index()\n",
        "total_mortos = mortos_por_raca.Identificador.sum()\n",
        "mortos_por_raca['%'] = mortos_por_raca['Identificador']/total_mortos\n",
        "mortos_por_raca['%'] = pd.Series([round(val, 2) for val in mortos_por_raca['%']], index = mortos_por_raca.index)\n",
        "mortos_por_raca['% Formatado'] = pd.Series([\"{0:.2f}%\".format(val * 100) for val in mortos_por_raca['%']], index = mortos_por_raca.index);\n",
        "mortos_por_raca.rename(columns={'Identificador' : 'Total'}, inplace=True)\n",
        "mortos_por_raca"
      ],
      "execution_count": 113,
      "outputs": [
        {
          "output_type": "execute_result",
          "data": {
            "text/html": [
              "<div>\n",
              "<style scoped>\n",
              "    .dataframe tbody tr th:only-of-type {\n",
              "        vertical-align: middle;\n",
              "    }\n",
              "\n",
              "    .dataframe tbody tr th {\n",
              "        vertical-align: top;\n",
              "    }\n",
              "\n",
              "    .dataframe thead th {\n",
              "        text-align: right;\n",
              "    }\n",
              "</style>\n",
              "<table border=\"1\" class=\"dataframe\">\n",
              "  <thead>\n",
              "    <tr style=\"text-align: right;\">\n",
              "      <th></th>\n",
              "      <th>Raca</th>\n",
              "      <th>Total</th>\n",
              "      <th>%</th>\n",
              "      <th>% Formatado</th>\n",
              "    </tr>\n",
              "  </thead>\n",
              "  <tbody>\n",
              "    <tr>\n",
              "      <th>0</th>\n",
              "      <td>Other</td>\n",
              "      <td>48</td>\n",
              "      <td>0.01</td>\n",
              "      <td>1.00%</td>\n",
              "    </tr>\n",
              "    <tr>\n",
              "      <th>1</th>\n",
              "      <td>Native</td>\n",
              "      <td>130</td>\n",
              "      <td>0.02</td>\n",
              "      <td>2.00%</td>\n",
              "    </tr>\n",
              "    <tr>\n",
              "      <th>2</th>\n",
              "      <td>Asian</td>\n",
              "      <td>173</td>\n",
              "      <td>0.02</td>\n",
              "      <td>2.00%</td>\n",
              "    </tr>\n",
              "    <tr>\n",
              "      <th>3</th>\n",
              "      <td>Hispanic</td>\n",
              "      <td>1784</td>\n",
              "      <td>0.21</td>\n",
              "      <td>21.00%</td>\n",
              "    </tr>\n",
              "    <tr>\n",
              "      <th>4</th>\n",
              "      <td>Black</td>\n",
              "      <td>2536</td>\n",
              "      <td>0.30</td>\n",
              "      <td>30.00%</td>\n",
              "    </tr>\n",
              "    <tr>\n",
              "      <th>5</th>\n",
              "      <td>White</td>\n",
              "      <td>3855</td>\n",
              "      <td>0.45</td>\n",
              "      <td>45.00%</td>\n",
              "    </tr>\n",
              "  </tbody>\n",
              "</table>\n",
              "</div>"
            ],
            "text/plain": [
              "       Raca  Total     % % Formatado\n",
              "0     Other     48  0.01       1.00%\n",
              "1    Native    130  0.02       2.00%\n",
              "2     Asian    173  0.02       2.00%\n",
              "3  Hispanic   1784  0.21      21.00%\n",
              "4     Black   2536  0.30      30.00%\n",
              "5     White   3855  0.45      45.00%"
            ]
          },
          "metadata": {},
          "execution_count": 113
        }
      ]
    },
    {
      "cell_type": "code",
      "metadata": {
        "colab": {
          "base_uri": "https://localhost:8080/",
          "height": 282
        },
        "id": "tuhzrrEB74FW",
        "outputId": "fcce91d9-a7bc-4e18-893e-f52d323d0627"
      },
      "source": [
        "mortos_por_raca.set_index('Raca')['%'].plot.pie(title='% de mortos por raça')"
      ],
      "execution_count": 114,
      "outputs": [
        {
          "output_type": "execute_result",
          "data": {
            "text/plain": [
              "<matplotlib.axes._subplots.AxesSubplot at 0x7f8460ef8e10>"
            ]
          },
          "metadata": {},
          "execution_count": 114
        },
        {
          "output_type": "display_data",
          "data": {
            "image/png": "[encoded data removed]",
            "text/plain": [
              "<Figure size 432x288 with 1 Axes>"
            ]
          },
          "metadata": {}
        }
      ]
    },
    {
      "cell_type": "code",
      "metadata": {
        "colab": {
          "base_uri": "https://localhost:8080/",
          "height": 203
        },
        "id": "lMziIU6giePu",
        "outputId": "8069e3aa-9b95-4798-dc72-523832f055ac"
      },
      "source": [
        "df.head()"
      ],
      "execution_count": 115,
      "outputs": [
        {
          "output_type": "execute_result",
          "data": {
            "text/html": [
              "<div>\n",
              "<style scoped>\n",
              "    .dataframe tbody tr th:only-of-type {\n",
              "        vertical-align: middle;\n",
              "    }\n",
              "\n",
              "    .dataframe tbody tr th {\n",
              "        vertical-align: top;\n",
              "    }\n",
              "\n",
              "    .dataframe thead th {\n",
              "        text-align: right;\n",
              "    }\n",
              "</style>\n",
              "<table border=\"1\" class=\"dataframe\">\n",
              "  <thead>\n",
              "    <tr style=\"text-align: right;\">\n",
              "      <th></th>\n",
              "      <th>Identificador</th>\n",
              "      <th>Nome</th>\n",
              "      <th>Idade</th>\n",
              "      <th>Genero</th>\n",
              "      <th>Raca</th>\n",
              "      <th>Data</th>\n",
              "      <th>Cidade</th>\n",
              "      <th>Estado</th>\n",
              "      <th>Forma que morreu</th>\n",
              "      <th>Armado</th>\n",
              "      <th>Doença Mental?</th>\n",
              "      <th>Fugiu?</th>\n",
              "      <th>Ano</th>\n",
              "      <th>Mes</th>\n",
              "      <th>Dia</th>\n",
              "    </tr>\n",
              "  </thead>\n",
              "  <tbody>\n",
              "    <tr>\n",
              "      <th>0</th>\n",
              "      <td>133</td>\n",
              "      <td>Karen O. Chin</td>\n",
              "      <td>44.0</td>\n",
              "      <td>Female</td>\n",
              "      <td>Asian</td>\n",
              "      <td>2000-05-04</td>\n",
              "      <td>Alameda</td>\n",
              "      <td>CA</td>\n",
              "      <td>Shot</td>\n",
              "      <td>NaN</td>\n",
              "      <td>False</td>\n",
              "      <td>False</td>\n",
              "      <td>2000</td>\n",
              "      <td>5</td>\n",
              "      <td>4</td>\n",
              "    </tr>\n",
              "    <tr>\n",
              "      <th>1</th>\n",
              "      <td>169</td>\n",
              "      <td>Chyraphone Komvongsa</td>\n",
              "      <td>26.0</td>\n",
              "      <td>Male</td>\n",
              "      <td>Asian</td>\n",
              "      <td>2000-06-02</td>\n",
              "      <td>Fresno</td>\n",
              "      <td>CA</td>\n",
              "      <td>Shot</td>\n",
              "      <td>NaN</td>\n",
              "      <td>False</td>\n",
              "      <td>False</td>\n",
              "      <td>2000</td>\n",
              "      <td>6</td>\n",
              "      <td>2</td>\n",
              "    </tr>\n",
              "    <tr>\n",
              "      <th>2</th>\n",
              "      <td>257</td>\n",
              "      <td>Ming Chinh Ly</td>\n",
              "      <td>36.0</td>\n",
              "      <td>Male</td>\n",
              "      <td>Asian</td>\n",
              "      <td>2000-08-13</td>\n",
              "      <td>Rosemead</td>\n",
              "      <td>CA</td>\n",
              "      <td>Shot</td>\n",
              "      <td>Gun</td>\n",
              "      <td>False</td>\n",
              "      <td>False</td>\n",
              "      <td>2000</td>\n",
              "      <td>8</td>\n",
              "      <td>13</td>\n",
              "    </tr>\n",
              "    <tr>\n",
              "      <th>3</th>\n",
              "      <td>483</td>\n",
              "      <td>Kinh Quoc Dao</td>\n",
              "      <td>29.0</td>\n",
              "      <td>Male</td>\n",
              "      <td>Asian</td>\n",
              "      <td>2001-02-09</td>\n",
              "      <td>Valley Glen</td>\n",
              "      <td>CA</td>\n",
              "      <td>Shot</td>\n",
              "      <td>Gun</td>\n",
              "      <td>False</td>\n",
              "      <td>False</td>\n",
              "      <td>2001</td>\n",
              "      <td>2</td>\n",
              "      <td>9</td>\n",
              "    </tr>\n",
              "    <tr>\n",
              "      <th>4</th>\n",
              "      <td>655</td>\n",
              "      <td>Vanpaseuth Phaisouphanh</td>\n",
              "      <td>25.0</td>\n",
              "      <td>Male</td>\n",
              "      <td>Asian</td>\n",
              "      <td>2001-06-10</td>\n",
              "      <td>Riverside</td>\n",
              "      <td>CA</td>\n",
              "      <td>Shot</td>\n",
              "      <td>Knife</td>\n",
              "      <td>False</td>\n",
              "      <td>False</td>\n",
              "      <td>2001</td>\n",
              "      <td>6</td>\n",
              "      <td>10</td>\n",
              "    </tr>\n",
              "  </tbody>\n",
              "</table>\n",
              "</div>"
            ],
            "text/plain": [
              "   Identificador                     Nome  Idade  ...   Ano Mes Dia\n",
              "0            133            Karen O. Chin   44.0  ...  2000   5   4\n",
              "1            169     Chyraphone Komvongsa   26.0  ...  2000   6   2\n",
              "2            257            Ming Chinh Ly   36.0  ...  2000   8  13\n",
              "3            483            Kinh Quoc Dao   29.0  ...  2001   2   9\n",
              "4            655  Vanpaseuth Phaisouphanh   25.0  ...  2001   6  10\n",
              "\n",
              "[5 rows x 15 columns]"
            ]
          },
          "metadata": {},
          "execution_count": 115
        }
      ]
    },
    {
      "cell_type": "markdown",
      "metadata": {
        "id": "uXcGgO7Oid6V"
      },
      "source": [
        ""
      ]
    },
    {
      "cell_type": "code",
      "metadata": {
        "colab": {
          "base_uri": "https://localhost:8080/",
          "height": 282
        },
        "id": "Quav8WWd9SsD",
        "outputId": "4c667e7a-385b-4711-deae-fb6ce74c13f5"
      },
      "source": [
        "# Os 20 estados com o maior número de mortos na base\n",
        "mortos_por_regiao = df.groupby(['Estado','Genero'])['Identificador'].count().reset_index().sort_values(['Identificador'], ascending=False)\n",
        "mortos_por_regiao.rename(columns={'Identificador' : 'Qtd'}, inplace=True)\n",
        "mortos_por_regiao.set_index('Estado', inplace=True)\n",
        "mortos_por_regiao.head(10).plot.barh(stacked=True)\n",
        "plt.xlabel('Qtd. de mortos');\n"
      ],
      "execution_count": 140,
      "outputs": [
        {
          "output_type": "display_data",
          "data": {
            "image/png": "[encoded data removed]",
            "text/plain": [
              "<Figure size 432x288 with 1 Axes>"
            ]
          },
          "metadata": {}
        }
      ]
    },
    {
      "cell_type": "code",
      "metadata": {
        "colab": {
          "base_uri": "https://localhost:8080/",
          "height": 282
        },
        "id": "BQGbm9JXv5KT",
        "outputId": "2d5742b9-e4a1-4270-eafc-9bad9d490706"
      },
      "source": [
        "# Os 20 estados com o menor número de mortos na base\n",
        "mortos_por_regiao.tail(10).plot.barh()\n",
        "plt.xlabel('Qtd. de mortos');"
      ],
      "execution_count": 136,
      "outputs": [
        {
          "output_type": "display_data",
          "data": {
            "image/png": "[encoded data removed]",
            "text/plain": [
              "<Figure size 432x288 with 1 Axes>"
            ]
          },
          "metadata": {}
        }
      ]
    }
  ]
}